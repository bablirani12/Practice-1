{
 "cells": [
  {
   "cell_type": "markdown",
   "id": "2ed4005c",
   "metadata": {},
   "source": [
    "# Operators"
   ]
  },
  {
   "cell_type": "code",
   "execution_count": null,
   "id": "c6fc0926",
   "metadata": {},
   "outputs": [],
   "source": [
    "+ , - , * , / , ** , % , //\n",
    "are the operators"
   ]
  },
  {
   "cell_type": "code",
   "execution_count": 1,
   "id": "e6677cca",
   "metadata": {},
   "outputs": [
    {
     "data": {
      "text/plain": [
       "2"
      ]
     },
     "execution_count": 1,
     "metadata": {},
     "output_type": "execute_result"
    }
   ],
   "source": [
    "1+1"
   ]
  },
  {
   "cell_type": "code",
   "execution_count": 2,
   "id": "1bdcd697",
   "metadata": {},
   "outputs": [
    {
     "data": {
      "text/plain": [
       "3"
      ]
     },
     "execution_count": 2,
     "metadata": {},
     "output_type": "execute_result"
    }
   ],
   "source": [
    "5-2"
   ]
  },
  {
   "cell_type": "code",
   "execution_count": 3,
   "id": "d2333613",
   "metadata": {},
   "outputs": [
    {
     "data": {
      "text/plain": [
       "12"
      ]
     },
     "execution_count": 3,
     "metadata": {},
     "output_type": "execute_result"
    }
   ],
   "source": [
    "6*2"
   ]
  },
  {
   "cell_type": "code",
   "execution_count": 4,
   "id": "96b5d046",
   "metadata": {},
   "outputs": [
    {
     "data": {
      "text/plain": [
       "5.0"
      ]
     },
     "execution_count": 4,
     "metadata": {},
     "output_type": "execute_result"
    }
   ],
   "source": [
    "10/2"
   ]
  },
  {
   "cell_type": "code",
   "execution_count": 5,
   "id": "4552379f",
   "metadata": {},
   "outputs": [
    {
     "data": {
      "text/plain": [
       "5"
      ]
     },
     "execution_count": 5,
     "metadata": {},
     "output_type": "execute_result"
    }
   ],
   "source": [
    "10//2"
   ]
  },
  {
   "cell_type": "code",
   "execution_count": null,
   "id": "6693a9d7",
   "metadata": {},
   "outputs": [],
   "source": [
    "// - it is floor division and removes decimal"
   ]
  },
  {
   "cell_type": "code",
   "execution_count": 6,
   "id": "1734e3fa",
   "metadata": {},
   "outputs": [
    {
     "data": {
      "text/plain": [
       "0"
      ]
     },
     "execution_count": 6,
     "metadata": {},
     "output_type": "execute_result"
    }
   ],
   "source": [
    "15%3"
   ]
  },
  {
   "cell_type": "code",
   "execution_count": null,
   "id": "e1c13dca",
   "metadata": {},
   "outputs": [],
   "source": [
    "% - modolus operator gives reminder"
   ]
  },
  {
   "cell_type": "code",
   "execution_count": 7,
   "id": "adf87393",
   "metadata": {},
   "outputs": [
    {
     "data": {
      "text/plain": [
       "5"
      ]
     },
     "execution_count": 7,
     "metadata": {},
     "output_type": "execute_result"
    }
   ],
   "source": [
    "26%7"
   ]
  },
  {
   "cell_type": "code",
   "execution_count": null,
   "id": "b20842aa",
   "metadata": {},
   "outputs": [],
   "source": [
    "** - square. used to find out the power"
   ]
  },
  {
   "cell_type": "code",
   "execution_count": 8,
   "id": "66ea92c2",
   "metadata": {},
   "outputs": [
    {
     "data": {
      "text/plain": [
       "4"
      ]
     },
     "execution_count": 8,
     "metadata": {},
     "output_type": "execute_result"
    }
   ],
   "source": [
    "2**2"
   ]
  },
  {
   "cell_type": "code",
   "execution_count": 9,
   "id": "82f3902e",
   "metadata": {},
   "outputs": [
    {
     "data": {
      "text/plain": [
       "16"
      ]
     },
     "execution_count": 9,
     "metadata": {},
     "output_type": "execute_result"
    }
   ],
   "source": [
    "4**2"
   ]
  },
  {
   "cell_type": "code",
   "execution_count": 10,
   "id": "69d7005e",
   "metadata": {},
   "outputs": [
    {
     "data": {
      "text/plain": [
       "64"
      ]
     },
     "execution_count": 10,
     "metadata": {},
     "output_type": "execute_result"
    }
   ],
   "source": [
    "8**2"
   ]
  },
  {
   "cell_type": "code",
   "execution_count": 11,
   "id": "5cc0ada6",
   "metadata": {},
   "outputs": [
    {
     "data": {
      "text/plain": [
       "25"
      ]
     },
     "execution_count": 11,
     "metadata": {},
     "output_type": "execute_result"
    }
   ],
   "source": [
    "5**2"
   ]
  },
  {
   "cell_type": "code",
   "execution_count": 12,
   "id": "7bfce430",
   "metadata": {},
   "outputs": [
    {
     "data": {
      "text/plain": [
       "125"
      ]
     },
     "execution_count": 12,
     "metadata": {},
     "output_type": "execute_result"
    }
   ],
   "source": [
    "5**3"
   ]
  },
  {
   "cell_type": "code",
   "execution_count": 13,
   "id": "28580338",
   "metadata": {},
   "outputs": [
    {
     "data": {
      "text/plain": [
       "343"
      ]
     },
     "execution_count": 13,
     "metadata": {},
     "output_type": "execute_result"
    }
   ],
   "source": [
    "7**3"
   ]
  },
  {
   "cell_type": "markdown",
   "id": "7ea809fd",
   "metadata": {},
   "source": [
    "Varibles"
   ]
  },
  {
   "cell_type": "code",
   "execution_count": 14,
   "id": "a80d4084",
   "metadata": {},
   "outputs": [],
   "source": [
    "a=10"
   ]
  },
  {
   "cell_type": "code",
   "execution_count": 15,
   "id": "e052a82f",
   "metadata": {},
   "outputs": [
    {
     "data": {
      "text/plain": [
       "10"
      ]
     },
     "execution_count": 15,
     "metadata": {},
     "output_type": "execute_result"
    }
   ],
   "source": [
    "a"
   ]
  },
  {
   "cell_type": "code",
   "execution_count": 16,
   "id": "3c43c34d",
   "metadata": {},
   "outputs": [],
   "source": [
    "b=5"
   ]
  },
  {
   "cell_type": "code",
   "execution_count": 17,
   "id": "03355d24",
   "metadata": {},
   "outputs": [
    {
     "data": {
      "text/plain": [
       "5"
      ]
     },
     "execution_count": 17,
     "metadata": {},
     "output_type": "execute_result"
    }
   ],
   "source": [
    "b"
   ]
  },
  {
   "cell_type": "code",
   "execution_count": 18,
   "id": "69ee0fc4",
   "metadata": {},
   "outputs": [
    {
     "data": {
      "text/plain": [
       "15"
      ]
     },
     "execution_count": 18,
     "metadata": {},
     "output_type": "execute_result"
    }
   ],
   "source": [
    "a+b"
   ]
  },
  {
   "cell_type": "code",
   "execution_count": 19,
   "id": "54b7810a",
   "metadata": {},
   "outputs": [
    {
     "data": {
      "text/plain": [
       "5"
      ]
     },
     "execution_count": 19,
     "metadata": {},
     "output_type": "execute_result"
    }
   ],
   "source": [
    "a-b"
   ]
  },
  {
   "cell_type": "code",
   "execution_count": 20,
   "id": "b7f3efb4",
   "metadata": {},
   "outputs": [
    {
     "data": {
      "text/plain": [
       "50"
      ]
     },
     "execution_count": 20,
     "metadata": {},
     "output_type": "execute_result"
    }
   ],
   "source": [
    "a*b"
   ]
  },
  {
   "cell_type": "code",
   "execution_count": 21,
   "id": "f97ce00c",
   "metadata": {},
   "outputs": [
    {
     "data": {
      "text/plain": [
       "2.0"
      ]
     },
     "execution_count": 21,
     "metadata": {},
     "output_type": "execute_result"
    }
   ],
   "source": [
    "a/b"
   ]
  },
  {
   "cell_type": "code",
   "execution_count": 22,
   "id": "277b2312",
   "metadata": {},
   "outputs": [
    {
     "data": {
      "text/plain": [
       "2"
      ]
     },
     "execution_count": 22,
     "metadata": {},
     "output_type": "execute_result"
    }
   ],
   "source": [
    "a//b"
   ]
  },
  {
   "cell_type": "code",
   "execution_count": 23,
   "id": "b4b12991",
   "metadata": {},
   "outputs": [],
   "source": [
    "c=a+b"
   ]
  },
  {
   "cell_type": "code",
   "execution_count": 24,
   "id": "7fa39d1a",
   "metadata": {},
   "outputs": [
    {
     "data": {
      "text/plain": [
       "15"
      ]
     },
     "execution_count": 24,
     "metadata": {},
     "output_type": "execute_result"
    }
   ],
   "source": [
    "c"
   ]
  },
  {
   "cell_type": "code",
   "execution_count": 29,
   "id": "af2d1230",
   "metadata": {},
   "outputs": [
    {
     "name": "stdout",
     "output_type": "stream",
     "text": [
      "15\n"
     ]
    }
   ],
   "source": [
    "print(c)"
   ]
  },
  {
   "cell_type": "code",
   "execution_count": 30,
   "id": "53390f92",
   "metadata": {},
   "outputs": [
    {
     "name": "stdout",
     "output_type": "stream",
     "text": [
      "c= 15\n"
     ]
    }
   ],
   "source": [
    "print('c=', c)"
   ]
  },
  {
   "cell_type": "code",
   "execution_count": 32,
   "id": "acdd2bc4",
   "metadata": {},
   "outputs": [],
   "source": [
    "d=a-b"
   ]
  },
  {
   "cell_type": "code",
   "execution_count": 33,
   "id": "89354ce0",
   "metadata": {
    "scrolled": true
   },
   "outputs": [
    {
     "data": {
      "text/plain": [
       "5"
      ]
     },
     "execution_count": 33,
     "metadata": {},
     "output_type": "execute_result"
    }
   ],
   "source": [
    "d"
   ]
  },
  {
   "cell_type": "code",
   "execution_count": 34,
   "id": "ad538e1b",
   "metadata": {},
   "outputs": [
    {
     "name": "stdout",
     "output_type": "stream",
     "text": [
      "d= 5\n"
     ]
    }
   ],
   "source": [
    "print(\"d=\", d)"
   ]
  },
  {
   "cell_type": "code",
   "execution_count": 35,
   "id": "8cbf54a9",
   "metadata": {},
   "outputs": [
    {
     "name": "stdout",
     "output_type": "stream",
     "text": [
      "the value of d= 5\n"
     ]
    }
   ],
   "source": [
    "print(\"the value of d=\", d)"
   ]
  },
  {
   "cell_type": "code",
   "execution_count": 27,
   "id": "33b46dda",
   "metadata": {},
   "outputs": [],
   "source": [
    "e=a*b"
   ]
  },
  {
   "cell_type": "code",
   "execution_count": 28,
   "id": "a8621d3c",
   "metadata": {},
   "outputs": [
    {
     "data": {
      "text/plain": [
       "50"
      ]
     },
     "execution_count": 28,
     "metadata": {},
     "output_type": "execute_result"
    }
   ],
   "source": [
    "e"
   ]
  },
  {
   "cell_type": "code",
   "execution_count": null,
   "id": "374332c1",
   "metadata": {},
   "outputs": [],
   "source": [
    "Can hold the operations into third variable also"
   ]
  },
  {
   "cell_type": "markdown",
   "id": "916e5a46",
   "metadata": {},
   "source": [
    "Length with a len function"
   ]
  },
  {
   "cell_type": "code",
   "execution_count": 36,
   "id": "fe9385a3",
   "metadata": {},
   "outputs": [
    {
     "data": {
      "text/plain": [
       "4"
      ]
     },
     "execution_count": 36,
     "metadata": {},
     "output_type": "execute_result"
    }
   ],
   "source": [
    "len(\"ABCD\")"
   ]
  },
  {
   "cell_type": "code",
   "execution_count": 37,
   "id": "0595f8c0",
   "metadata": {},
   "outputs": [
    {
     "data": {
      "text/plain": [
       "3"
      ]
     },
     "execution_count": 37,
     "metadata": {},
     "output_type": "execute_result"
    }
   ],
   "source": [
    "len(\"XYZ\")"
   ]
  },
  {
   "cell_type": "code",
   "execution_count": 38,
   "id": "ebf0afb6",
   "metadata": {},
   "outputs": [
    {
     "data": {
      "text/plain": [
       "4"
      ]
     },
     "execution_count": 38,
     "metadata": {},
     "output_type": "execute_result"
    }
   ],
   "source": [
    "len(\"Pune\")"
   ]
  },
  {
   "cell_type": "code",
   "execution_count": 39,
   "id": "eb7386d6",
   "metadata": {},
   "outputs": [],
   "source": [
    "city=\"NEWYORK\""
   ]
  },
  {
   "cell_type": "code",
   "execution_count": 40,
   "id": "d42e797b",
   "metadata": {},
   "outputs": [
    {
     "data": {
      "text/plain": [
       "'NEWYORK'"
      ]
     },
     "execution_count": 40,
     "metadata": {},
     "output_type": "execute_result"
    }
   ],
   "source": [
    "city"
   ]
  },
  {
   "cell_type": "code",
   "execution_count": 41,
   "id": "981e724a",
   "metadata": {},
   "outputs": [
    {
     "data": {
      "text/plain": [
       "4"
      ]
     },
     "execution_count": 41,
     "metadata": {},
     "output_type": "execute_result"
    }
   ],
   "source": [
    "len(\"city\")"
   ]
  },
  {
   "cell_type": "code",
   "execution_count": 44,
   "id": "2dd5dd7f",
   "metadata": {},
   "outputs": [
    {
     "data": {
      "text/plain": [
       "7"
      ]
     },
     "execution_count": 44,
     "metadata": {},
     "output_type": "execute_result"
    }
   ],
   "source": [
    "len(\"NEWYORK\")"
   ]
  },
  {
   "cell_type": "code",
   "execution_count": 45,
   "id": "b8dfbfb5",
   "metadata": {},
   "outputs": [
    {
     "data": {
      "text/plain": [
       "7"
      ]
     },
     "execution_count": 45,
     "metadata": {},
     "output_type": "execute_result"
    }
   ],
   "source": [
    "len(city)"
   ]
  },
  {
   "cell_type": "markdown",
   "id": "fd38e187",
   "metadata": {},
   "source": [
    "# Datatypes"
   ]
  },
  {
   "cell_type": "markdown",
   "id": "73d556d8",
   "metadata": {},
   "source": [
    "String Concatenation"
   ]
  },
  {
   "cell_type": "markdown",
   "id": "b5e06834",
   "metadata": {},
   "source": [
    "Addition of two strings"
   ]
  },
  {
   "cell_type": "code",
   "execution_count": 46,
   "id": "1130fcc0",
   "metadata": {},
   "outputs": [
    {
     "data": {
      "text/plain": [
       "'44'"
      ]
     },
     "execution_count": 46,
     "metadata": {},
     "output_type": "execute_result"
    }
   ],
   "source": [
    "\"4\" + \"4\""
   ]
  },
  {
   "cell_type": "code",
   "execution_count": 47,
   "id": "3c01ff7b",
   "metadata": {},
   "outputs": [
    {
     "data": {
      "text/plain": [
       "'Happy Birthday'"
      ]
     },
     "execution_count": 47,
     "metadata": {},
     "output_type": "execute_result"
    }
   ],
   "source": [
    "\"Happy\" + \" Birthday\""
   ]
  },
  {
   "cell_type": "code",
   "execution_count": 48,
   "id": "f80986b3",
   "metadata": {},
   "outputs": [
    {
     "data": {
      "text/plain": [
       "'Josh Martin'"
      ]
     },
     "execution_count": 48,
     "metadata": {},
     "output_type": "execute_result"
    }
   ],
   "source": [
    "\"Josh\" + \" Martin\""
   ]
  },
  {
   "cell_type": "code",
   "execution_count": 49,
   "id": "d86a0fc9",
   "metadata": {},
   "outputs": [
    {
     "data": {
      "text/plain": [
       "'Space X'"
      ]
     },
     "execution_count": 49,
     "metadata": {},
     "output_type": "execute_result"
    }
   ],
   "source": [
    "\"Space\" + \" X\""
   ]
  },
  {
   "cell_type": "code",
   "execution_count": 50,
   "id": "5ce99d21",
   "metadata": {},
   "outputs": [
    {
     "data": {
      "text/plain": [
       "'66'"
      ]
     },
     "execution_count": 50,
     "metadata": {},
     "output_type": "execute_result"
    }
   ],
   "source": [
    "'6' + '6'"
   ]
  },
  {
   "cell_type": "markdown",
   "id": "2e06ca44",
   "metadata": {},
   "source": [
    "Area of rectangle"
   ]
  },
  {
   "cell_type": "code",
   "execution_count": 51,
   "id": "7cc2d65a",
   "metadata": {},
   "outputs": [
    {
     "name": "stdout",
     "output_type": "stream",
     "text": [
      "300\n",
      "Area of Rectangle= 300\n"
     ]
    }
   ],
   "source": [
    "l=50\n",
    "b=6\n",
    "area=l*b\n",
    "print(area)\n",
    "print(\"Area of Rectangle=\", area)\n"
   ]
  },
  {
   "cell_type": "markdown",
   "id": "09151326",
   "metadata": {},
   "source": [
    "Area of circle"
   ]
  },
  {
   "cell_type": "code",
   "execution_count": 52,
   "id": "948a009c",
   "metadata": {},
   "outputs": [
    {
     "name": "stdout",
     "output_type": "stream",
     "text": [
      "The Area of Circle= 200.96\n"
     ]
    }
   ],
   "source": [
    "pi=3.14\n",
    "radius=8\n",
    "area=pi*(radius**2)\n",
    "print(\"The Area of Circle=\", area)\n"
   ]
  },
  {
   "cell_type": "markdown",
   "id": "b3544227",
   "metadata": {},
   "source": [
    "Typecasting"
   ]
  },
  {
   "cell_type": "code",
   "execution_count": 53,
   "id": "8240c27a",
   "metadata": {},
   "outputs": [],
   "source": [
    "a=25"
   ]
  },
  {
   "cell_type": "code",
   "execution_count": 54,
   "id": "0fee50af",
   "metadata": {},
   "outputs": [
    {
     "data": {
      "text/plain": [
       "int"
      ]
     },
     "execution_count": 54,
     "metadata": {},
     "output_type": "execute_result"
    }
   ],
   "source": [
    "type(a)"
   ]
  },
  {
   "cell_type": "code",
   "execution_count": 55,
   "id": "57ac4ef8",
   "metadata": {},
   "outputs": [
    {
     "data": {
      "text/plain": [
       "float"
      ]
     },
     "execution_count": 55,
     "metadata": {},
     "output_type": "execute_result"
    }
   ],
   "source": [
    "b=34.87\n",
    "type(b)"
   ]
  },
  {
   "cell_type": "code",
   "execution_count": 56,
   "id": "8b7adb09",
   "metadata": {},
   "outputs": [],
   "source": [
    "c=\"ABC\""
   ]
  },
  {
   "cell_type": "code",
   "execution_count": 57,
   "id": "72f83b4f",
   "metadata": {},
   "outputs": [
    {
     "data": {
      "text/plain": [
       "str"
      ]
     },
     "execution_count": 57,
     "metadata": {},
     "output_type": "execute_result"
    }
   ],
   "source": [
    "type(c)"
   ]
  },
  {
   "cell_type": "markdown",
   "id": "98eb9859",
   "metadata": {},
   "source": [
    "Relational OPerators"
   ]
  },
  {
   "cell_type": "code",
   "execution_count": null,
   "id": "3e04085d",
   "metadata": {},
   "outputs": [],
   "source": [
    "< > == !="
   ]
  },
  {
   "cell_type": "code",
   "execution_count": 58,
   "id": "1b7117b6",
   "metadata": {},
   "outputs": [
    {
     "data": {
      "text/plain": [
       "False"
      ]
     },
     "execution_count": 58,
     "metadata": {},
     "output_type": "execute_result"
    }
   ],
   "source": [
    "20>30"
   ]
  },
  {
   "cell_type": "code",
   "execution_count": 59,
   "id": "f3526dbb",
   "metadata": {},
   "outputs": [
    {
     "data": {
      "text/plain": [
       "True"
      ]
     },
     "execution_count": 59,
     "metadata": {},
     "output_type": "execute_result"
    }
   ],
   "source": [
    "50>6"
   ]
  },
  {
   "cell_type": "code",
   "execution_count": 60,
   "id": "052a1a94",
   "metadata": {},
   "outputs": [
    {
     "data": {
      "text/plain": [
       "True"
      ]
     },
     "execution_count": 60,
     "metadata": {},
     "output_type": "execute_result"
    }
   ],
   "source": [
    "10==10"
   ]
  },
  {
   "cell_type": "code",
   "execution_count": 61,
   "id": "97fd9bb0",
   "metadata": {},
   "outputs": [
    {
     "data": {
      "text/plain": [
       "False"
      ]
     },
     "execution_count": 61,
     "metadata": {},
     "output_type": "execute_result"
    }
   ],
   "source": [
    "10!=10"
   ]
  },
  {
   "cell_type": "code",
   "execution_count": 62,
   "id": "45adb0cc",
   "metadata": {},
   "outputs": [
    {
     "data": {
      "text/plain": [
       "False"
      ]
     },
     "execution_count": 62,
     "metadata": {},
     "output_type": "execute_result"
    }
   ],
   "source": [
    "20==10"
   ]
  },
  {
   "cell_type": "markdown",
   "id": "ce47ffd4",
   "metadata": {},
   "source": [
    "How to take the User-input"
   ]
  },
  {
   "cell_type": "code",
   "execution_count": 67,
   "id": "6daa6317",
   "metadata": {},
   "outputs": [
    {
     "name": "stdout",
     "output_type": "stream",
     "text": [
      "Enter any country nameamerica\n"
     ]
    }
   ],
   "source": [
    "country=input(\"Enter any country name\")"
   ]
  },
  {
   "cell_type": "code",
   "execution_count": 68,
   "id": "ea3c7b7d",
   "metadata": {},
   "outputs": [
    {
     "data": {
      "text/plain": [
       "'america'"
      ]
     },
     "execution_count": 68,
     "metadata": {},
     "output_type": "execute_result"
    }
   ],
   "source": [
    "country"
   ]
  },
  {
   "cell_type": "code",
   "execution_count": 69,
   "id": "60d9861a",
   "metadata": {},
   "outputs": [
    {
     "data": {
      "text/plain": [
       "str"
      ]
     },
     "execution_count": 69,
     "metadata": {},
     "output_type": "execute_result"
    }
   ],
   "source": [
    "type(country)"
   ]
  },
  {
   "cell_type": "markdown",
   "id": "6c209452",
   "metadata": {},
   "source": [
    "input function always return data in string function"
   ]
  },
  {
   "cell_type": "code",
   "execution_count": 94,
   "id": "f5cc6b96",
   "metadata": {},
   "outputs": [
    {
     "name": "stdout",
     "output_type": "stream",
     "text": [
      "Enter any no88\n"
     ]
    }
   ],
   "source": [
    "number1=int(input(\"Enter any no\"))"
   ]
  },
  {
   "cell_type": "code",
   "execution_count": 95,
   "id": "841bbaaf",
   "metadata": {},
   "outputs": [
    {
     "data": {
      "text/plain": [
       "88"
      ]
     },
     "execution_count": 95,
     "metadata": {},
     "output_type": "execute_result"
    }
   ],
   "source": [
    "number1"
   ]
  },
  {
   "cell_type": "code",
   "execution_count": 96,
   "id": "30f3d18e",
   "metadata": {
    "scrolled": true
   },
   "outputs": [
    {
     "data": {
      "text/plain": [
       "int"
      ]
     },
     "execution_count": 96,
     "metadata": {},
     "output_type": "execute_result"
    }
   ],
   "source": [
    "type(number1)"
   ]
  },
  {
   "cell_type": "code",
   "execution_count": 97,
   "id": "372167c0",
   "metadata": {},
   "outputs": [
    {
     "name": "stdout",
     "output_type": "stream",
     "text": [
      "Enter any no90\n"
     ]
    }
   ],
   "source": [
    "number2=int(input(\"Enter any no\"))"
   ]
  },
  {
   "cell_type": "code",
   "execution_count": 98,
   "id": "0ce65e10",
   "metadata": {},
   "outputs": [
    {
     "data": {
      "text/plain": [
       "90"
      ]
     },
     "execution_count": 98,
     "metadata": {},
     "output_type": "execute_result"
    }
   ],
   "source": [
    "number2"
   ]
  },
  {
   "cell_type": "code",
   "execution_count": 99,
   "id": "c3805960",
   "metadata": {
    "scrolled": true
   },
   "outputs": [
    {
     "data": {
      "text/plain": [
       "int"
      ]
     },
     "execution_count": 99,
     "metadata": {},
     "output_type": "execute_result"
    }
   ],
   "source": [
    "type(number2)"
   ]
  },
  {
   "cell_type": "code",
   "execution_count": 100,
   "id": "dfd8b406",
   "metadata": {},
   "outputs": [
    {
     "data": {
      "text/plain": [
       "178"
      ]
     },
     "execution_count": 100,
     "metadata": {},
     "output_type": "execute_result"
    }
   ],
   "source": [
    "number1 + number2"
   ]
  },
  {
   "cell_type": "markdown",
   "id": "3499cd86",
   "metadata": {},
   "source": [
    "adding the two user input values"
   ]
  },
  {
   "cell_type": "markdown",
   "id": "adca3695",
   "metadata": {},
   "source": [
    "Typecasting"
   ]
  },
  {
   "cell_type": "markdown",
   "id": "26498bdc",
   "metadata": {},
   "source": [
    "one type of data can be converted into anoter"
   ]
  },
  {
   "cell_type": "code",
   "execution_count": 78,
   "id": "17691331",
   "metadata": {},
   "outputs": [
    {
     "data": {
      "text/plain": [
       "int"
      ]
     },
     "execution_count": 78,
     "metadata": {},
     "output_type": "execute_result"
    }
   ],
   "source": [
    "a=100\n",
    "type(a)"
   ]
  },
  {
   "cell_type": "code",
   "execution_count": 79,
   "id": "6fc7384a",
   "metadata": {},
   "outputs": [
    {
     "data": {
      "text/plain": [
       "100.0"
      ]
     },
     "execution_count": 79,
     "metadata": {},
     "output_type": "execute_result"
    }
   ],
   "source": [
    "float(a)"
   ]
  },
  {
   "cell_type": "code",
   "execution_count": 80,
   "id": "30f37d8a",
   "metadata": {},
   "outputs": [
    {
     "data": {
      "text/plain": [
       "float"
      ]
     },
     "execution_count": 80,
     "metadata": {},
     "output_type": "execute_result"
    }
   ],
   "source": [
    "f=45.90\n",
    "type(f)"
   ]
  },
  {
   "cell_type": "code",
   "execution_count": 81,
   "id": "6fcf16be",
   "metadata": {},
   "outputs": [
    {
     "data": {
      "text/plain": [
       "45"
      ]
     },
     "execution_count": 81,
     "metadata": {},
     "output_type": "execute_result"
    }
   ],
   "source": [
    "int(f)"
   ]
  },
  {
   "cell_type": "code",
   "execution_count": 82,
   "id": "2c7d2022",
   "metadata": {},
   "outputs": [
    {
     "data": {
      "text/plain": [
       "int"
      ]
     },
     "execution_count": 82,
     "metadata": {},
     "output_type": "execute_result"
    }
   ],
   "source": [
    "p=58\n",
    "type(p)"
   ]
  },
  {
   "cell_type": "code",
   "execution_count": 84,
   "id": "d0c79562",
   "metadata": {},
   "outputs": [],
   "source": [
    "pf=float(p)"
   ]
  },
  {
   "cell_type": "code",
   "execution_count": 85,
   "id": "29975671",
   "metadata": {},
   "outputs": [
    {
     "data": {
      "text/plain": [
       "58.0"
      ]
     },
     "execution_count": 85,
     "metadata": {},
     "output_type": "execute_result"
    }
   ],
   "source": [
    "pf"
   ]
  },
  {
   "cell_type": "code",
   "execution_count": 86,
   "id": "2c4f1d23",
   "metadata": {},
   "outputs": [
    {
     "data": {
      "text/plain": [
       "float"
      ]
     },
     "execution_count": 86,
     "metadata": {},
     "output_type": "execute_result"
    }
   ],
   "source": [
    "type(pf)"
   ]
  },
  {
   "cell_type": "code",
   "execution_count": 88,
   "id": "13c1a847",
   "metadata": {},
   "outputs": [
    {
     "name": "stdout",
     "output_type": "stream",
     "text": [
      "Enter any no90\n"
     ]
    }
   ],
   "source": [
    "xv=int(input(\"Enter any no\"))"
   ]
  },
  {
   "cell_type": "code",
   "execution_count": 89,
   "id": "430babee",
   "metadata": {},
   "outputs": [
    {
     "data": {
      "text/plain": [
       "int"
      ]
     },
     "execution_count": 89,
     "metadata": {},
     "output_type": "execute_result"
    }
   ],
   "source": [
    "type(xv)"
   ]
  },
  {
   "cell_type": "code",
   "execution_count": 90,
   "id": "038d39b2",
   "metadata": {},
   "outputs": [
    {
     "name": "stdout",
     "output_type": "stream",
     "text": [
      "Enter any no66\n"
     ]
    }
   ],
   "source": [
    "pf=int(input(\"Enter any no\"))"
   ]
  },
  {
   "cell_type": "code",
   "execution_count": 91,
   "id": "ac9e8840",
   "metadata": {},
   "outputs": [
    {
     "data": {
      "text/plain": [
       "int"
      ]
     },
     "execution_count": 91,
     "metadata": {},
     "output_type": "execute_result"
    }
   ],
   "source": [
    "type(pf)"
   ]
  },
  {
   "cell_type": "code",
   "execution_count": 92,
   "id": "03137f08",
   "metadata": {},
   "outputs": [],
   "source": [
    "w=xv+pf"
   ]
  },
  {
   "cell_type": "code",
   "execution_count": 93,
   "id": "b21eb107",
   "metadata": {},
   "outputs": [
    {
     "name": "stdout",
     "output_type": "stream",
     "text": [
      "156\n"
     ]
    }
   ],
   "source": [
    "print(w)"
   ]
  },
  {
   "cell_type": "code",
   "execution_count": 101,
   "id": "454313fe",
   "metadata": {},
   "outputs": [],
   "source": [
    "a=90\n",
    "b=80\n",
    "c=a+b"
   ]
  },
  {
   "cell_type": "code",
   "execution_count": 102,
   "id": "6b6597ef",
   "metadata": {},
   "outputs": [
    {
     "data": {
      "text/plain": [
       "170"
      ]
     },
     "execution_count": 102,
     "metadata": {},
     "output_type": "execute_result"
    }
   ],
   "source": [
    "c"
   ]
  },
  {
   "cell_type": "markdown",
   "id": "c77da5a5",
   "metadata": {},
   "source": [
    "area of rectangle"
   ]
  },
  {
   "cell_type": "code",
   "execution_count": 103,
   "id": "673cc97a",
   "metadata": {},
   "outputs": [
    {
     "name": "stdout",
     "output_type": "stream",
     "text": [
      "Area of Rectangle= 392\n"
     ]
    }
   ],
   "source": [
    "l=56\n",
    "b=7\n",
    "area=l*b\n",
    "print(\"Area of Rectangle=\", area)"
   ]
  },
  {
   "cell_type": "code",
   "execution_count": 104,
   "id": "66b3c8d7",
   "metadata": {},
   "outputs": [
    {
     "name": "stdout",
     "output_type": "stream",
     "text": [
      "Enter any no300\n",
      "length= 300\n",
      "Enter any no78\n",
      "breadth= 78\n",
      "Area of Rectangle= 23400\n"
     ]
    }
   ],
   "source": [
    "l=int(input(\"Enter any no\"))\n",
    "print(\"length=\", l)\n",
    "b=int(input(\"Enter any no\"))\n",
    "print(\"breadth=\", b)\n",
    "area=l*b\n",
    "print(\"Area of Rectangle=\", area)\n"
   ]
  },
  {
   "cell_type": "markdown",
   "id": "7feeb5a5",
   "metadata": {},
   "source": [
    "Area of circle"
   ]
  },
  {
   "cell_type": "code",
   "execution_count": 105,
   "id": "4534496b",
   "metadata": {},
   "outputs": [
    {
     "name": "stdout",
     "output_type": "stream",
     "text": [
      "Enter value of pi3.14\n",
      "pi= 3.14\n",
      "Enter any no95.45\n",
      "radius= 95.45\n",
      "Area of Circle= 28607.605850000004\n"
     ]
    }
   ],
   "source": [
    "pi=float(input(\"Enter value of pi\"))\n",
    "print(\"pi=\", pi)\n",
    "radius=float(input(\"Enter any no\"))\n",
    "print(\"radius=\", radius)\n",
    "areaofcircle=pi*(radius**2)\n",
    "print(\"Area of Circle=\", areaofcircle)"
   ]
  },
  {
   "cell_type": "code",
   "execution_count": 106,
   "id": "98c95501",
   "metadata": {},
   "outputs": [
    {
     "data": {
      "text/plain": [
       "28607.606"
      ]
     },
     "execution_count": 106,
     "metadata": {},
     "output_type": "execute_result"
    }
   ],
   "source": [
    "round(28607.605850000004,3)"
   ]
  },
  {
   "cell_type": "markdown",
   "id": "564df51a",
   "metadata": {},
   "source": [
    "round function will control decimal value"
   ]
  },
  {
   "cell_type": "markdown",
   "id": "6f596a05",
   "metadata": {},
   "source": [
    "Data Structures"
   ]
  },
  {
   "cell_type": "markdown",
   "id": "13d4a188",
   "metadata": {},
   "source": [
    "List"
   ]
  },
  {
   "cell_type": "code",
   "execution_count": 107,
   "id": "dce4264e",
   "metadata": {},
   "outputs": [],
   "source": [
    "list1=[1,2,3,4,5]"
   ]
  },
  {
   "cell_type": "code",
   "execution_count": 108,
   "id": "08bd0a62",
   "metadata": {},
   "outputs": [
    {
     "data": {
      "text/plain": [
       "[1, 2, 3, 4, 5]"
      ]
     },
     "execution_count": 108,
     "metadata": {},
     "output_type": "execute_result"
    }
   ],
   "source": [
    "list1"
   ]
  },
  {
   "cell_type": "code",
   "execution_count": 109,
   "id": "4dc7db11",
   "metadata": {},
   "outputs": [],
   "source": [
    "list2=[11,12,13,14,15,16,17,18]"
   ]
  },
  {
   "cell_type": "code",
   "execution_count": 110,
   "id": "32d12fbb",
   "metadata": {},
   "outputs": [
    {
     "data": {
      "text/plain": [
       "[11, 12, 13, 14, 15, 16, 17, 18]"
      ]
     },
     "execution_count": 110,
     "metadata": {},
     "output_type": "execute_result"
    }
   ],
   "source": [
    "list2"
   ]
  },
  {
   "cell_type": "code",
   "execution_count": 112,
   "id": "f20b9e6e",
   "metadata": {},
   "outputs": [],
   "source": [
    "list3=[44.9,56.0,12.90,56.89]"
   ]
  },
  {
   "cell_type": "code",
   "execution_count": 113,
   "id": "8a820983",
   "metadata": {},
   "outputs": [
    {
     "data": {
      "text/plain": [
       "[44.9, 56.0, 12.9, 56.89]"
      ]
     },
     "execution_count": 113,
     "metadata": {},
     "output_type": "execute_result"
    }
   ],
   "source": [
    "list3"
   ]
  },
  {
   "cell_type": "code",
   "execution_count": 114,
   "id": "19edbb55",
   "metadata": {},
   "outputs": [],
   "source": [
    "list4=[\"a\", \"b\", \"c\", \"d\"]"
   ]
  },
  {
   "cell_type": "code",
   "execution_count": 115,
   "id": "161321bd",
   "metadata": {},
   "outputs": [
    {
     "data": {
      "text/plain": [
       "['a', 'b', 'c', 'd']"
      ]
     },
     "execution_count": 115,
     "metadata": {},
     "output_type": "execute_result"
    }
   ],
   "source": [
    "list4"
   ]
  },
  {
   "cell_type": "markdown",
   "id": "9ae89319",
   "metadata": {},
   "source": [
    "positive indexing"
   ]
  },
  {
   "cell_type": "code",
   "execution_count": 116,
   "id": "bdc05974",
   "metadata": {},
   "outputs": [
    {
     "data": {
      "text/plain": [
       "'a'"
      ]
     },
     "execution_count": 116,
     "metadata": {},
     "output_type": "execute_result"
    }
   ],
   "source": [
    "list4[0]"
   ]
  },
  {
   "cell_type": "code",
   "execution_count": 117,
   "id": "b79a4004",
   "metadata": {},
   "outputs": [
    {
     "data": {
      "text/plain": [
       "'c'"
      ]
     },
     "execution_count": 117,
     "metadata": {},
     "output_type": "execute_result"
    }
   ],
   "source": [
    "list4[2]"
   ]
  },
  {
   "cell_type": "code",
   "execution_count": 118,
   "id": "b1d647cb",
   "metadata": {},
   "outputs": [
    {
     "data": {
      "text/plain": [
       "'b'"
      ]
     },
     "execution_count": 118,
     "metadata": {},
     "output_type": "execute_result"
    }
   ],
   "source": [
    "list4[1]"
   ]
  },
  {
   "cell_type": "markdown",
   "id": "9d146557",
   "metadata": {},
   "source": [
    "slicing"
   ]
  },
  {
   "cell_type": "code",
   "execution_count": 119,
   "id": "45623778",
   "metadata": {},
   "outputs": [
    {
     "data": {
      "text/plain": [
       "['a', 'b', 'c']"
      ]
     },
     "execution_count": 119,
     "metadata": {},
     "output_type": "execute_result"
    }
   ],
   "source": [
    "list4[0:3]"
   ]
  },
  {
   "cell_type": "markdown",
   "id": "406073b6",
   "metadata": {},
   "source": [
    "end index is excluded"
   ]
  },
  {
   "cell_type": "code",
   "execution_count": 120,
   "id": "3de2b15b",
   "metadata": {},
   "outputs": [
    {
     "data": {
      "text/plain": [
       "['a', 'b', 'c', 'd']"
      ]
     },
     "execution_count": 120,
     "metadata": {},
     "output_type": "execute_result"
    }
   ],
   "source": [
    "list4[:]"
   ]
  },
  {
   "cell_type": "code",
   "execution_count": 121,
   "id": "4731f2e4",
   "metadata": {},
   "outputs": [
    {
     "data": {
      "text/plain": [
       "['a', 'b', 'c', 'd']"
      ]
     },
     "execution_count": 121,
     "metadata": {},
     "output_type": "execute_result"
    }
   ],
   "source": [
    "list4[0:]"
   ]
  },
  {
   "cell_type": "code",
   "execution_count": 123,
   "id": "79c7d9a5",
   "metadata": {},
   "outputs": [
    {
     "data": {
      "text/plain": [
       "['a', 'b', 'c']"
      ]
     },
     "execution_count": 123,
     "metadata": {},
     "output_type": "execute_result"
    }
   ],
   "source": [
    "list4[:3]"
   ]
  },
  {
   "cell_type": "markdown",
   "id": "5045dc86",
   "metadata": {},
   "source": [
    "negative indexing"
   ]
  },
  {
   "cell_type": "code",
   "execution_count": 125,
   "id": "1765446a",
   "metadata": {},
   "outputs": [
    {
     "data": {
      "text/plain": [
       "'d'"
      ]
     },
     "execution_count": 125,
     "metadata": {},
     "output_type": "execute_result"
    }
   ],
   "source": [
    "list4[-1]"
   ]
  },
  {
   "cell_type": "code",
   "execution_count": 126,
   "id": "a529b9ee",
   "metadata": {},
   "outputs": [
    {
     "data": {
      "text/plain": [
       "'b'"
      ]
     },
     "execution_count": 126,
     "metadata": {},
     "output_type": "execute_result"
    }
   ],
   "source": [
    "list4[-3]"
   ]
  },
  {
   "cell_type": "code",
   "execution_count": 127,
   "id": "4168a9ff",
   "metadata": {},
   "outputs": [
    {
     "data": {
      "text/plain": [
       "['a', 'b', 'c']"
      ]
     },
     "execution_count": 127,
     "metadata": {},
     "output_type": "execute_result"
    }
   ],
   "source": [
    "list4[-4:-1]"
   ]
  },
  {
   "cell_type": "code",
   "execution_count": 128,
   "id": "97a02905",
   "metadata": {},
   "outputs": [
    {
     "data": {
      "text/plain": [
       "['c']"
      ]
     },
     "execution_count": 128,
     "metadata": {},
     "output_type": "execute_result"
    }
   ],
   "source": [
    "list4[-2:-1]"
   ]
  },
  {
   "cell_type": "markdown",
   "id": "8aad5d4c",
   "metadata": {},
   "source": [
    "append function - addition of data at the end"
   ]
  },
  {
   "cell_type": "code",
   "execution_count": 130,
   "id": "4932e410",
   "metadata": {},
   "outputs": [],
   "source": [
    "list1=[11,12,13,14,15,16]"
   ]
  },
  {
   "cell_type": "code",
   "execution_count": 131,
   "id": "50d7936b",
   "metadata": {},
   "outputs": [
    {
     "data": {
      "text/plain": [
       "[11, 12, 13, 14, 15, 16]"
      ]
     },
     "execution_count": 131,
     "metadata": {},
     "output_type": "execute_result"
    }
   ],
   "source": [
    "list1"
   ]
  },
  {
   "cell_type": "code",
   "execution_count": 133,
   "id": "d9349e4d",
   "metadata": {},
   "outputs": [],
   "source": [
    "list1.append(17)"
   ]
  },
  {
   "cell_type": "code",
   "execution_count": 134,
   "id": "25d16dcc",
   "metadata": {},
   "outputs": [
    {
     "data": {
      "text/plain": [
       "[11, 12, 13, 14, 15, 16, 17]"
      ]
     },
     "execution_count": 134,
     "metadata": {},
     "output_type": "execute_result"
    }
   ],
   "source": [
    "list1"
   ]
  },
  {
   "cell_type": "code",
   "execution_count": 135,
   "id": "76f532ac",
   "metadata": {},
   "outputs": [],
   "source": [
    "list1.insert(3,900)"
   ]
  },
  {
   "cell_type": "code",
   "execution_count": 136,
   "id": "35eed633",
   "metadata": {},
   "outputs": [
    {
     "data": {
      "text/plain": [
       "[11, 12, 13, 900, 14, 15, 16, 17]"
      ]
     },
     "execution_count": 136,
     "metadata": {},
     "output_type": "execute_result"
    }
   ],
   "source": [
    "list1"
   ]
  },
  {
   "cell_type": "code",
   "execution_count": 137,
   "id": "de28cb68",
   "metadata": {},
   "outputs": [],
   "source": [
    "list1.insert(5,66)"
   ]
  },
  {
   "cell_type": "code",
   "execution_count": 138,
   "id": "0aa50c67",
   "metadata": {},
   "outputs": [
    {
     "data": {
      "text/plain": [
       "[11, 12, 13, 900, 14, 66, 15, 16, 17]"
      ]
     },
     "execution_count": 138,
     "metadata": {},
     "output_type": "execute_result"
    }
   ],
   "source": [
    "list1"
   ]
  },
  {
   "cell_type": "code",
   "execution_count": 139,
   "id": "be6b0caf",
   "metadata": {},
   "outputs": [
    {
     "data": {
      "text/plain": [
       "9"
      ]
     },
     "execution_count": 139,
     "metadata": {},
     "output_type": "execute_result"
    }
   ],
   "source": [
    "len(list1)"
   ]
  },
  {
   "cell_type": "markdown",
   "id": "7a2c4632",
   "metadata": {},
   "source": [
    "sort-ascending order"
   ]
  },
  {
   "cell_type": "markdown",
   "id": "6b6d587e",
   "metadata": {},
   "source": [
    "reverse - descending order"
   ]
  },
  {
   "cell_type": "code",
   "execution_count": 140,
   "id": "8e1b26f4",
   "metadata": {},
   "outputs": [],
   "source": [
    "list1.sort()"
   ]
  },
  {
   "cell_type": "code",
   "execution_count": 141,
   "id": "c54672a9",
   "metadata": {},
   "outputs": [
    {
     "data": {
      "text/plain": [
       "[11, 12, 13, 14, 15, 16, 17, 66, 900]"
      ]
     },
     "execution_count": 141,
     "metadata": {},
     "output_type": "execute_result"
    }
   ],
   "source": [
    "list1"
   ]
  },
  {
   "cell_type": "code",
   "execution_count": 142,
   "id": "3bf86c9b",
   "metadata": {},
   "outputs": [],
   "source": [
    "list1.reverse()"
   ]
  },
  {
   "cell_type": "code",
   "execution_count": 143,
   "id": "2531114a",
   "metadata": {},
   "outputs": [
    {
     "data": {
      "text/plain": [
       "[900, 66, 17, 16, 15, 14, 13, 12, 11]"
      ]
     },
     "execution_count": 143,
     "metadata": {},
     "output_type": "execute_result"
    }
   ],
   "source": [
    "list1"
   ]
  },
  {
   "cell_type": "code",
   "execution_count": 144,
   "id": "c1068055",
   "metadata": {},
   "outputs": [
    {
     "data": {
      "text/plain": [
       "5"
      ]
     },
     "execution_count": 144,
     "metadata": {},
     "output_type": "execute_result"
    }
   ],
   "source": [
    "list1.index(14)"
   ]
  },
  {
   "cell_type": "code",
   "execution_count": 145,
   "id": "45cd4dcb",
   "metadata": {},
   "outputs": [
    {
     "data": {
      "text/plain": [
       "0"
      ]
     },
     "execution_count": 145,
     "metadata": {},
     "output_type": "execute_result"
    }
   ],
   "source": [
    "list1.index(900)"
   ]
  },
  {
   "cell_type": "code",
   "execution_count": 146,
   "id": "b6ea09b3",
   "metadata": {},
   "outputs": [],
   "source": [
    "list2=[56,87]"
   ]
  },
  {
   "cell_type": "code",
   "execution_count": 147,
   "id": "3092174b",
   "metadata": {},
   "outputs": [
    {
     "data": {
      "text/plain": [
       "[56, 87]"
      ]
     },
     "execution_count": 147,
     "metadata": {},
     "output_type": "execute_result"
    }
   ],
   "source": [
    "list2"
   ]
  },
  {
   "cell_type": "code",
   "execution_count": 148,
   "id": "da520101",
   "metadata": {},
   "outputs": [],
   "source": [
    "list1.extend(list2)"
   ]
  },
  {
   "cell_type": "code",
   "execution_count": 150,
   "id": "b221e3d7",
   "metadata": {},
   "outputs": [
    {
     "data": {
      "text/plain": [
       "[900, 66, 17, 16, 15, 14, 13, 12, 11, 56, 87]"
      ]
     },
     "execution_count": 150,
     "metadata": {},
     "output_type": "execute_result"
    }
   ],
   "source": [
    "list1"
   ]
  },
  {
   "cell_type": "markdown",
   "id": "24c8015e",
   "metadata": {},
   "source": [
    "extend operation will add more than one data"
   ]
  },
  {
   "cell_type": "code",
   "execution_count": 151,
   "id": "3204c0d7",
   "metadata": {},
   "outputs": [
    {
     "data": {
      "text/plain": [
       "11"
      ]
     },
     "execution_count": 151,
     "metadata": {},
     "output_type": "execute_result"
    }
   ],
   "source": [
    "len(list1)"
   ]
  },
  {
   "cell_type": "code",
   "execution_count": 152,
   "id": "a8f1a5fa",
   "metadata": {},
   "outputs": [
    {
     "data": {
      "text/plain": [
       "87"
      ]
     },
     "execution_count": 152,
     "metadata": {},
     "output_type": "execute_result"
    }
   ],
   "source": [
    "list1.pop()"
   ]
  },
  {
   "cell_type": "markdown",
   "id": "00c4ce41",
   "metadata": {},
   "source": [
    "pop- only pop will remove the last data and if use pop with particular index than will remove that particular data"
   ]
  },
  {
   "cell_type": "code",
   "execution_count": 153,
   "id": "738c22d6",
   "metadata": {},
   "outputs": [
    {
     "data": {
      "text/plain": [
       "12"
      ]
     },
     "execution_count": 153,
     "metadata": {},
     "output_type": "execute_result"
    }
   ],
   "source": [
    "list1.pop(7)"
   ]
  },
  {
   "cell_type": "code",
   "execution_count": 154,
   "id": "d08d721e",
   "metadata": {},
   "outputs": [
    {
     "data": {
      "text/plain": [
       "[900, 66, 17, 16, 15, 14, 13, 11, 56]"
      ]
     },
     "execution_count": 154,
     "metadata": {},
     "output_type": "execute_result"
    }
   ],
   "source": [
    "list1"
   ]
  },
  {
   "cell_type": "code",
   "execution_count": 155,
   "id": "5c077895",
   "metadata": {},
   "outputs": [
    {
     "data": {
      "text/plain": [
       "9"
      ]
     },
     "execution_count": 155,
     "metadata": {},
     "output_type": "execute_result"
    }
   ],
   "source": [
    "len(list1)"
   ]
  },
  {
   "cell_type": "code",
   "execution_count": 156,
   "id": "393692cf",
   "metadata": {},
   "outputs": [],
   "source": [
    "list1.remove(15)"
   ]
  },
  {
   "cell_type": "code",
   "execution_count": 157,
   "id": "b1b386c4",
   "metadata": {},
   "outputs": [
    {
     "data": {
      "text/plain": [
       "[900, 66, 17, 16, 14, 13, 11, 56]"
      ]
     },
     "execution_count": 157,
     "metadata": {},
     "output_type": "execute_result"
    }
   ],
   "source": [
    "list1\n"
   ]
  },
  {
   "cell_type": "markdown",
   "id": "f2744f18",
   "metadata": {},
   "source": [
    "remove - particular data with name"
   ]
  },
  {
   "cell_type": "code",
   "execution_count": 158,
   "id": "b9663f69",
   "metadata": {},
   "outputs": [
    {
     "data": {
      "text/plain": [
       "8"
      ]
     },
     "execution_count": 158,
     "metadata": {},
     "output_type": "execute_result"
    }
   ],
   "source": [
    "len(list1)"
   ]
  },
  {
   "cell_type": "code",
   "execution_count": 159,
   "id": "09d96b6a",
   "metadata": {},
   "outputs": [],
   "source": [
    "list1.clear()"
   ]
  },
  {
   "cell_type": "code",
   "execution_count": 160,
   "id": "66773147",
   "metadata": {},
   "outputs": [
    {
     "data": {
      "text/plain": [
       "[]"
      ]
     },
     "execution_count": 160,
     "metadata": {},
     "output_type": "execute_result"
    }
   ],
   "source": [
    "list1"
   ]
  },
  {
   "cell_type": "code",
   "execution_count": 161,
   "id": "4b4d143c",
   "metadata": {},
   "outputs": [],
   "source": [
    "del list1"
   ]
  },
  {
   "cell_type": "code",
   "execution_count": 162,
   "id": "3ab04434",
   "metadata": {},
   "outputs": [
    {
     "ename": "NameError",
     "evalue": "name 'list1' is not defined",
     "output_type": "error",
     "traceback": [
      "\u001b[1;31m---------------------------------------------------------------------------\u001b[0m",
      "\u001b[1;31mNameError\u001b[0m                                 Traceback (most recent call last)",
      "\u001b[1;32mC:\\Users\\BABLIM~1\\AppData\\Local\\Temp/ipykernel_8284/866546473.py\u001b[0m in \u001b[0;36m<module>\u001b[1;34m\u001b[0m\n\u001b[1;32m----> 1\u001b[1;33m \u001b[0mlist1\u001b[0m\u001b[1;33m\u001b[0m\u001b[1;33m\u001b[0m\u001b[0m\n\u001b[0m",
      "\u001b[1;31mNameError\u001b[0m: name 'list1' is not defined"
     ]
    }
   ],
   "source": [
    "list1"
   ]
  },
  {
   "cell_type": "markdown",
   "id": "214612b8",
   "metadata": {},
   "source": [
    "clear means no data inside"
   ]
  },
  {
   "cell_type": "markdown",
   "id": "487d10db",
   "metadata": {},
   "source": [
    "del - delete forever"
   ]
  },
  {
   "cell_type": "markdown",
   "id": "fe63ba4e",
   "metadata": {},
   "source": [
    "mutable- change the internal element even after the creation"
   ]
  },
  {
   "cell_type": "markdown",
   "id": "d782a433",
   "metadata": {},
   "source": [
    "# Tuples"
   ]
  },
  {
   "cell_type": "markdown",
   "id": "76093787",
   "metadata": {},
   "source": [
    "it is in round bracelets and is collection of data"
   ]
  },
  {
   "cell_type": "markdown",
   "id": "35abe1c3",
   "metadata": {},
   "source": [
    "it is not mutable"
   ]
  },
  {
   "cell_type": "markdown",
   "id": "945647c4",
   "metadata": {},
   "source": [
    "duplicate elements can is existed"
   ]
  },
  {
   "cell_type": "markdown",
   "id": "d70ea507",
   "metadata": {},
   "source": [
    "# Dictionary"
   ]
  },
  {
   "cell_type": "markdown",
   "id": "363f692a",
   "metadata": {},
   "source": [
    "used curly bracelets"
   ]
  },
  {
   "cell_type": "code",
   "execution_count": 163,
   "id": "28f3f5c3",
   "metadata": {},
   "outputs": [],
   "source": [
    "dict1={\"id\":101, \"Name\":\"Andrew\", \"Age\":10}"
   ]
  },
  {
   "cell_type": "code",
   "execution_count": 164,
   "id": "216ea62e",
   "metadata": {},
   "outputs": [
    {
     "data": {
      "text/plain": [
       "{'id': 101, 'Name': 'Andrew', 'Age': 10}"
      ]
     },
     "execution_count": 164,
     "metadata": {},
     "output_type": "execute_result"
    }
   ],
   "source": [
    "dict1"
   ]
  },
  {
   "cell_type": "code",
   "execution_count": 166,
   "id": "759b84a1",
   "metadata": {},
   "outputs": [
    {
     "data": {
      "text/plain": [
       "101"
      ]
     },
     "execution_count": 166,
     "metadata": {},
     "output_type": "execute_result"
    }
   ],
   "source": [
    "dict1['id']"
   ]
  },
  {
   "cell_type": "code",
   "execution_count": 167,
   "id": "c1fabfa0",
   "metadata": {},
   "outputs": [
    {
     "data": {
      "text/plain": [
       "'Andrew'"
      ]
     },
     "execution_count": 167,
     "metadata": {},
     "output_type": "execute_result"
    }
   ],
   "source": [
    "dict1[\"Name\"]"
   ]
  },
  {
   "cell_type": "code",
   "execution_count": 168,
   "id": "7089f686",
   "metadata": {},
   "outputs": [
    {
     "data": {
      "text/plain": [
       "10"
      ]
     },
     "execution_count": 168,
     "metadata": {},
     "output_type": "execute_result"
    }
   ],
   "source": [
    "dict1[\"Age\"]"
   ]
  },
  {
   "cell_type": "code",
   "execution_count": 169,
   "id": "c412208e",
   "metadata": {},
   "outputs": [
    {
     "data": {
      "text/plain": [
       "dict_keys(['id', 'Name', 'Age'])"
      ]
     },
     "execution_count": 169,
     "metadata": {},
     "output_type": "execute_result"
    }
   ],
   "source": [
    "dict1.keys()"
   ]
  },
  {
   "cell_type": "code",
   "execution_count": 170,
   "id": "3da362b6",
   "metadata": {},
   "outputs": [
    {
     "data": {
      "text/plain": [
       "dict_values([101, 'Andrew', 10])"
      ]
     },
     "execution_count": 170,
     "metadata": {},
     "output_type": "execute_result"
    }
   ],
   "source": [
    "dict1.values()"
   ]
  },
  {
   "cell_type": "code",
   "execution_count": 171,
   "id": "8b873cc4",
   "metadata": {},
   "outputs": [
    {
     "data": {
      "text/plain": [
       "dict_items([('id', 101), ('Name', 'Andrew'), ('Age', 10)])"
      ]
     },
     "execution_count": 171,
     "metadata": {},
     "output_type": "execute_result"
    }
   ],
   "source": [
    "dict1.items()"
   ]
  },
  {
   "cell_type": "code",
   "execution_count": 174,
   "id": "7fa6f7f1",
   "metadata": {},
   "outputs": [],
   "source": [
    "dict1[\"Name\"]=\"John\""
   ]
  },
  {
   "cell_type": "code",
   "execution_count": 175,
   "id": "8441d32e",
   "metadata": {},
   "outputs": [
    {
     "data": {
      "text/plain": [
       "{'id': 101, 'Name': 'John', 'Age': 10}"
      ]
     },
     "execution_count": 175,
     "metadata": {},
     "output_type": "execute_result"
    }
   ],
   "source": [
    "dict1"
   ]
  },
  {
   "cell_type": "code",
   "execution_count": 176,
   "id": "974206f0",
   "metadata": {},
   "outputs": [],
   "source": [
    "dict1[\"Age\"]=16"
   ]
  },
  {
   "cell_type": "code",
   "execution_count": 177,
   "id": "d0069d2a",
   "metadata": {},
   "outputs": [
    {
     "data": {
      "text/plain": [
       "{'id': 101, 'Name': 'John', 'Age': 16}"
      ]
     },
     "execution_count": 177,
     "metadata": {},
     "output_type": "execute_result"
    }
   ],
   "source": [
    "dict1"
   ]
  },
  {
   "cell_type": "code",
   "execution_count": 178,
   "id": "7761df46",
   "metadata": {},
   "outputs": [],
   "source": [
    "dict1.update({\"food\": \"maggie\"})"
   ]
  },
  {
   "cell_type": "code",
   "execution_count": 179,
   "id": "060759ed",
   "metadata": {},
   "outputs": [
    {
     "data": {
      "text/plain": [
       "{'id': 101, 'Name': 'John', 'Age': 16, 'food': 'maggie'}"
      ]
     },
     "execution_count": 179,
     "metadata": {},
     "output_type": "execute_result"
    }
   ],
   "source": [
    "dict1"
   ]
  },
  {
   "cell_type": "code",
   "execution_count": 180,
   "id": "1d96b2c2",
   "metadata": {},
   "outputs": [],
   "source": [
    "dict1[\"maggie\"]=\"Salad\""
   ]
  },
  {
   "cell_type": "code",
   "execution_count": 181,
   "id": "2d260181",
   "metadata": {},
   "outputs": [
    {
     "data": {
      "text/plain": [
       "{'id': 101, 'Name': 'John', 'Age': 16, 'food': 'maggie', 'maggie': 'Salad'}"
      ]
     },
     "execution_count": 181,
     "metadata": {},
     "output_type": "execute_result"
    }
   ],
   "source": [
    "dict1"
   ]
  },
  {
   "cell_type": "code",
   "execution_count": 182,
   "id": "3d4a7d6c",
   "metadata": {},
   "outputs": [
    {
     "data": {
      "text/plain": [
       "5"
      ]
     },
     "execution_count": 182,
     "metadata": {},
     "output_type": "execute_result"
    }
   ],
   "source": [
    "len(dict1)"
   ]
  },
  {
   "cell_type": "code",
   "execution_count": 183,
   "id": "7c84fa92",
   "metadata": {},
   "outputs": [],
   "source": [
    "del dict1[\"maggie\"]"
   ]
  },
  {
   "cell_type": "code",
   "execution_count": 184,
   "id": "91f7a447",
   "metadata": {},
   "outputs": [
    {
     "data": {
      "text/plain": [
       "{'id': 101, 'Name': 'John', 'Age': 16, 'food': 'maggie'}"
      ]
     },
     "execution_count": 184,
     "metadata": {},
     "output_type": "execute_result"
    }
   ],
   "source": [
    "dict1"
   ]
  },
  {
   "cell_type": "code",
   "execution_count": 185,
   "id": "13826dbc",
   "metadata": {},
   "outputs": [
    {
     "data": {
      "text/plain": [
       "'John'"
      ]
     },
     "execution_count": 185,
     "metadata": {},
     "output_type": "execute_result"
    }
   ],
   "source": [
    "dict1.pop(\"Name\")"
   ]
  },
  {
   "cell_type": "code",
   "execution_count": 186,
   "id": "61f2dae6",
   "metadata": {},
   "outputs": [
    {
     "data": {
      "text/plain": [
       "{'id': 101, 'Age': 16, 'food': 'maggie'}"
      ]
     },
     "execution_count": 186,
     "metadata": {},
     "output_type": "execute_result"
    }
   ],
   "source": [
    "dict1"
   ]
  },
  {
   "cell_type": "markdown",
   "id": "940de36d",
   "metadata": {},
   "source": [
    "del and pop used to delete particular key"
   ]
  },
  {
   "cell_type": "markdown",
   "id": "18d4734b",
   "metadata": {},
   "source": [
    "# Sets"
   ]
  },
  {
   "cell_type": "markdown",
   "id": "bc49f21a",
   "metadata": {},
   "source": [
    "unordered collections of item, no index, dont allow duplicate values, immutable"
   ]
  },
  {
   "cell_type": "code",
   "execution_count": 187,
   "id": "c6a3572f",
   "metadata": {},
   "outputs": [],
   "source": [
    "x={22,33,56,78,90}"
   ]
  },
  {
   "cell_type": "code",
   "execution_count": 188,
   "id": "160e65e1",
   "metadata": {},
   "outputs": [
    {
     "data": {
      "text/plain": [
       "{22, 33, 56, 78, 90}"
      ]
     },
     "execution_count": 188,
     "metadata": {},
     "output_type": "execute_result"
    }
   ],
   "source": [
    "x"
   ]
  },
  {
   "cell_type": "code",
   "execution_count": 189,
   "id": "3f295c56",
   "metadata": {},
   "outputs": [],
   "source": [
    "y=set([77,88,99,10,89,56])"
   ]
  },
  {
   "cell_type": "code",
   "execution_count": 190,
   "id": "5af69496",
   "metadata": {},
   "outputs": [
    {
     "data": {
      "text/plain": [
       "{10, 56, 77, 88, 89, 99}"
      ]
     },
     "execution_count": 190,
     "metadata": {},
     "output_type": "execute_result"
    }
   ],
   "source": [
    "y"
   ]
  },
  {
   "cell_type": "markdown",
   "id": "a27aa1c4",
   "metadata": {},
   "source": [
    "in sets we use all the bracelets"
   ]
  },
  {
   "cell_type": "markdown",
   "id": "8cfceaa3",
   "metadata": {},
   "source": [
    "# Loops"
   ]
  },
  {
   "cell_type": "markdown",
   "id": "107d0a17",
   "metadata": {},
   "source": [
    "While loop"
   ]
  },
  {
   "cell_type": "markdown",
   "id": "2c19607b",
   "metadata": {},
   "source": [
    "initialization i=0\n",
    "condition ()\n",
    "increment"
   ]
  },
  {
   "cell_type": "code",
   "execution_count": 191,
   "id": "6f8990d8",
   "metadata": {},
   "outputs": [
    {
     "name": "stdout",
     "output_type": "stream",
     "text": [
      "0\n",
      "1\n",
      "2\n"
     ]
    }
   ],
   "source": [
    "i=0\n",
    "while(i<3):\n",
    "    print(i)\n",
    "    i=i+1"
   ]
  },
  {
   "cell_type": "code",
   "execution_count": 192,
   "id": "5205ec71",
   "metadata": {},
   "outputs": [
    {
     "name": "stdout",
     "output_type": "stream",
     "text": [
      "0\n",
      "1\n",
      "2\n",
      "3\n",
      "4\n"
     ]
    }
   ],
   "source": [
    "i=0\n",
    "while(i<5):\n",
    "    print(i)\n",
    "    i=i+1"
   ]
  },
  {
   "cell_type": "code",
   "execution_count": 194,
   "id": "c95057be",
   "metadata": {},
   "outputs": [
    {
     "name": "stdout",
     "output_type": "stream",
     "text": [
      "5 6 7 8 9 10 11 12 13 14 15 16 17 18 19 20 21 22 23 24 "
     ]
    }
   ],
   "source": [
    "i=5\n",
    "while(i<25):\n",
    "    print(i, end=\" \")\n",
    "    i=i+1"
   ]
  },
  {
   "cell_type": "code",
   "execution_count": 195,
   "id": "3b833682",
   "metadata": {},
   "outputs": [
    {
     "name": "stdout",
     "output_type": "stream",
     "text": [
      "0\n",
      "1\n",
      "2\n",
      "3\n"
     ]
    }
   ],
   "source": [
    "j=0\n",
    "while(j<4):\n",
    "    print(j)\n",
    "    j=j+1"
   ]
  },
  {
   "cell_type": "code",
   "execution_count": 196,
   "id": "2deba7c2",
   "metadata": {},
   "outputs": [
    {
     "name": "stdout",
     "output_type": "stream",
     "text": [
      "p= 0\n",
      "p= 1\n",
      "p= 2\n",
      "p= 3\n",
      "p= 4\n"
     ]
    }
   ],
   "source": [
    "p=0\n",
    "while(p<5):\n",
    "    print(\"p=\", p)\n",
    "    p=p+1"
   ]
  },
  {
   "cell_type": "markdown",
   "id": "0be1b4cc",
   "metadata": {},
   "source": [
    "For Loop"
   ]
  },
  {
   "cell_type": "code",
   "execution_count": 197,
   "id": "f9a90447",
   "metadata": {},
   "outputs": [
    {
     "name": "stdout",
     "output_type": "stream",
     "text": [
      "1\n",
      "2\n",
      "3\n",
      "4\n",
      "5\n"
     ]
    }
   ],
   "source": [
    "for x in [1,2,3,4,5]:\n",
    "    print(x)"
   ]
  },
  {
   "cell_type": "code",
   "execution_count": 198,
   "id": "07a02a67",
   "metadata": {},
   "outputs": [
    {
     "name": "stdout",
     "output_type": "stream",
     "text": [
      "apple\n",
      "mango\n",
      "banana\n"
     ]
    }
   ],
   "source": [
    "for p in [\"apple\", \"mango\", \"banana\"]:\n",
    "    print(p)"
   ]
  },
  {
   "cell_type": "code",
   "execution_count": null,
   "id": "274fd088",
   "metadata": {},
   "outputs": [],
   "source": []
  },
  {
   "cell_type": "code",
   "execution_count": null,
   "id": "8610687d",
   "metadata": {},
   "outputs": [],
   "source": []
  },
  {
   "cell_type": "code",
   "execution_count": null,
   "id": "3c8a4d93",
   "metadata": {},
   "outputs": [],
   "source": []
  }
 ],
 "metadata": {
  "kernelspec": {
   "display_name": "Python 3 (ipykernel)",
   "language": "python",
   "name": "python3"
  },
  "language_info": {
   "codemirror_mode": {
    "name": "ipython",
    "version": 3
   },
   "file_extension": ".py",
   "mimetype": "text/x-python",
   "name": "python",
   "nbconvert_exporter": "python",
   "pygments_lexer": "ipython3",
   "version": "3.9.7"
  }
 },
 "nbformat": 4,
 "nbformat_minor": 5
}
